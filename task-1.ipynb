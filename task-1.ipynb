#importing modules 
import pandas as pd 
import numpy as np
import matplotlib.pyplot as plt
import seaborn as sns
#linear regression module
from sklearn.linear_model import LinearRegression
#train test splitting 
from sklearn.model_selection import train_test_split
# metrics
from sklearn.metrics import mean_squared_error, r2_score
data = pd.read_csv("http://bit.ly/w-data")
data.head()
data.info()
data.isnull()
data.describe()
data.groupby('Hours').agg(['mean','min','max'])['Scores']
f = plt.figure(figsize=(10,10))
ax = sns.scatterplot(x='Hours', y='Scores', data=data, palette='magma', color='red')
X = data.iloc[:,0].values.reshape(-1,1)
y= data['Scores']
X_train, X_test, y_train, y_test = train_test_split(X, y, test_size=0.3)
print(X_train.shape,X_test.shape)
A = LinearRegression()
A.fit(X_train,y_train)
predicted = A.predict(X_test)
predicted
plt.scatter(X_test, y_test, color='r')
plt.plot(X_test, predicted, color='b')
plt.xlabel('Hours')
plt.ylabel('Scores')
plt.title('Plot of linear regression model')
plt.show()
print("if the student studies for 9.25 hours")
A.predict([[9.25]])
print("Coefficient:",A.coef_)
print("Intercept", A.intercept_)
print("Mean Squared Error:",mean_squared_error(y_test, predicted))
print("R2 score:",r2_score(y_test, predicted))
final_score = A.predict([[9.25]])
float(final_score)
print("If the student studies for 9.25 hours then he/she will score ",float(final_score),"%")
